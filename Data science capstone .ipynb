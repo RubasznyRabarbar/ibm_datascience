{
    "nbformat_minor": 1, 
    "cells": [
        {
            "source": "**Description & discussion on the background**", 
            "cell_type": "markdown", 
            "metadata": {
                "collapsed": true
            }
        }, 
        {
            "source": "I wanted to analyse a big city in my neighbourhood, I choose Amsterdam. With a population below one milion people it can be hard to get a proper clusters but based on its unique communication system and localization it can be a really interesting topic to go deeper in. We can cluster the data and check which cluster has the most venues/ smalles price. \n", 
            "cell_type": "markdown", 
            "metadata": {}
        }, 
        {
            "source": "**Data Description**", 
            "cell_type": "markdown", 
            "metadata": {}
        }, 
        {
            "source": "- First of all obviously foursquare API - to get the borough for the city of Amsterdam\n- Data which i can find on real estate prices to make an analysis \n-  Spatial Data Repository of NYU to get will allow to cluster the data for Amsterdam \ ", 
            "cell_type": "markdown", 
            "metadata": {}
        }, 
        {
            "execution_count": null, 
            "cell_type": "code", 
            "metadata": {}, 
            "outputs": [], 
            "source": ""
        }
    ], 
    "metadata": {
        "kernelspec": {
            "display_name": "Python 3.6", 
            "name": "python3", 
            "language": "python"
        }, 
        "language_info": {
            "mimetype": "text/x-python", 
            "nbconvert_exporter": "python", 
            "version": "3.6.8", 
            "name": "python", 
            "file_extension": ".py", 
            "pygments_lexer": "ipython3", 
            "codemirror_mode": {
                "version": 3, 
                "name": "ipython"
            }
        }
    }, 
    "nbformat": 4
}
